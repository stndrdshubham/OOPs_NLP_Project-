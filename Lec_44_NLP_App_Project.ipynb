{
 "cells": [
  {
   "cell_type": "markdown",
   "metadata": {},
   "source": [
    "\n",
    "Tried working with VS studio but doesn't worked out. instead it is working fine with google colab and anaconda environemnt with jupyter notebook.\n",
    "Might be the issue with VS studio is Python version. that is working particularly with python 3.8~ and genai might need 3.9 version which is seen during Desktop assistant project."
   ]
  },
  {
   "cell_type": "markdown",
   "metadata": {},
   "source": [
    "#!pip install google-generativeai"
   ]
  },
  {
   "cell_type": "code",
   "execution_count": 8,
   "metadata": {},
   "outputs": [],
   "source": [
    "import google.generativeai as genai"
   ]
  },
  {
   "cell_type": "code",
   "execution_count": 9,
   "metadata": {},
   "outputs": [
    {
     "name": "stdout",
     "output_type": "stream",
     "text": [
      "Positive\n"
     ]
    }
   ],
   "source": [
    "### demo\n",
    "import google.generativeai as genai\n",
    "\n",
    "GOOGLE_API_KEY='AIz**************aSy8****8B48***WP'\n",
    "\n",
    "user_text1=\"\"\" \n",
    "Give me the sentiment of this sentance:\n",
    "\"I love this movie\"\n",
    "\"\"\"\n",
    "\n",
    "\n",
    "user_text2=\"\"\" \n",
    "Give me hindi translation of this sentance:\n",
    "\"I hate this movie\"\n",
    "\"\"\"\n",
    "\n",
    "user_text3=\"\"\" \n",
    "Give me the language of this sentance:\n",
    "\"I love this movie\"\n",
    "\"\"\"\n",
    "\n",
    "genai.configure(api_key=GOOGLE_API_KEY)\n",
    "model=genai.GenerativeModel('gemini-pro')\n",
    "response=model.generate_content(user_text1)\n",
    "results=response.text\n",
    "print(results)"
   ]
  },
  {
   "cell_type": "markdown",
   "metadata": {},
   "source": [
    "### OOP Project\n",
    "Need to create the structure of the OOP project-\n",
    "- Menu\n",
    "- Register [Creating a database]  (Name, Email, Password)\n",
    "- Login  (Sentiment, Translation, Detection)\n",
    "- Exit\n",
    "\n",
    "Database need to be a Dictionary where email will be key and name and password are values saved for key, other database such as list won't work out.\n",
    "\n",
    "to keep the values and databases as private property, need to define the database with \"__database\". similarly for other functions also.\n",
    "\n",
    "           `````         NLP APP          `````````\n",
    "           ````````````````````````````````````````\n",
    "           `````        - Dict= {}        `````````\n",
    "           ````````````````````````````````````````\n",
    "           `````        -meun()          `````````\n",
    "           `````        -Register()       `````````\n",
    "           `````        -Login()          `````````\n",
    "           `````        -Sentiment()     `````````\n",
    "           `````        -Tanslation()     `````````\n",
    "           `````        -Detection()      `````````\n",
    "           ````````````````````````````````````````\n",
    "        \n",
    "\n"
   ]
  },
  {
   "cell_type": "code",
   "execution_count": 2,
   "metadata": {},
   "outputs": [],
   "source": [
    "class NLPmodel:\n",
    "\n",
    "    def get_model(self):\n",
    "        genai.configure(api_key=GOOGLE_API_KEY)\n",
    "        model=genai.GenerativeModel('gemini-pro')\n",
    "\n",
    "        return model\n",
    "\n",
    "#NLP model is parent class and NLP App is child class\n",
    "#NLP model don't have database requirement, need a model (public model- get_model)\n",
    "\n",
    "class NLPApp(NLPmodel):\n",
    "    def __init__(self):\n",
    "        self.__database={}\n",
    "        self.__first_menu()\n",
    "\n",
    "    def __first_menu(self):\n",
    "        first_input=input(\"\"\"\n",
    "        Hi ! how would you like to process?\n",
    "\n",
    "        1. Not a member? Register\n",
    "        2. Already a member? Login\n",
    "        3. Exit\n",
    "        \"\"\")\n",
    "\n",
    "        if first_input == '1':\n",
    "            self.__register()\n",
    "        elif first_input =='2':\n",
    "            self.__login()\n",
    "        else:\n",
    "            exit()\n",
    "\n",
    "\n",
    "    def __second_menu(self):\n",
    "        second_input=input(\"\"\"\n",
    "        What you would like to do here?\n",
    "        1. Sentiment Analysis\n",
    "        2. Language translation\n",
    "        3. Language detection\n",
    "        \"\"\")\n",
    "        \n",
    "        if second_input == \"1\":\n",
    "            #sentiment analysis\n",
    "            self.__sentiment_analysis()\n",
    "        elif second_input == \"2\":\n",
    "            #language translation\n",
    "            self.__language_translation()\n",
    "        elif second_input == \"3\":\n",
    "            #language detection\n",
    "            self.__languague_detection()\n",
    "        else:\n",
    "            exit()\n",
    "            \n",
    "        \n",
    "\n",
    "    def __register(self):\n",
    "        name = input(\"Enter your Name: \")\n",
    "        email = input(\"Enter your Email: \")\n",
    "        password = input(\"Enter your password: \")\n",
    "\n",
    "        if  email in self.__database:\n",
    "            print(\"Email already exists\")\n",
    "\n",
    "        else:\n",
    "            self.__database[email]=[name,password]\n",
    "            print(\"Registration sucessful. Now you can login!\")\n",
    "            print(self.__database)\n",
    "            self.__first_menu()\n",
    "\n",
    "\n",
    "    def __login(self):\n",
    "        email = input(\"Enter the email: \")\n",
    "        password =  input (\"Enter the Password: \")\n",
    "        if email in self.__database:\n",
    "            if self.__database[email][1] == password:\n",
    "                print(\"Login Successful\")\n",
    "                self.__second_menu()\n",
    "            else:\n",
    "                print(\"Your password is incorrect !!\")\n",
    "                self.__login()\n",
    "        else:\n",
    "            print(\"You are not registered. Please register yourself \")\n",
    "            self.__first_menu()\n",
    "\n",
    "\n",
    "    def __sentiment_analysis(self):\n",
    "        user_text = input(\"Enter your text :\")\n",
    "        model = super().get_model()\n",
    "        response = model.generate_content(f\"Give me the sentiment of this sentance: '''{user_text}'''\")\n",
    "        results = response.text\n",
    "        print(results)\n",
    "        self.__second_menu()\n",
    "\n",
    "    def __language_translation(self):\n",
    "        user_text = input(\"Enter your text :\")\n",
    "        model = super().get_model()\n",
    "        response = model.generate_content(f\"Give me hindi translation of this sentance: '''{user_text}'''\")\n",
    "        results = response.text\n",
    "        print(results)\n",
    "        self.__second_menu()\n",
    "\n",
    "\n",
    "    def __languague_detection(self):\n",
    "        user_text = input(\"Enter your text :\")\n",
    "        model = super().get_model()\n",
    "        response = model.generate_content(f\"Detect the language of this sentance: '''{user_text}'''\")\n",
    "        results = response.text\n",
    "        print(results)\n",
    "        self.__second_menu()\n",
    "    \n",
    "            \n",
    "            \n",
    "            \n",
    "        "
   ]
  },
  {
   "cell_type": "code",
   "execution_count": 3,
   "metadata": {},
   "outputs": [
    {
     "name": "stdin",
     "output_type": "stream",
     "text": [
      "\n",
      "        Hi ! how would you like to process?\n",
      "\n",
      "        1. Not a member? Register\n",
      "        2. Already a member? Login\n",
      "        3. Exit\n",
      "         3\n"
     ]
    }
   ],
   "source": [
    "obj=NLPApp()"
   ]
  },
  {
   "cell_type": "markdown",
   "metadata": {},
   "source": [
    "we can add some more functionalities here, such as Chatbot, Qus & Ans, text summarization, "
   ]
  },
  {
   "cell_type": "code",
   "execution_count": null,
   "metadata": {},
   "outputs": [],
   "source": []
  }
 ],
 "metadata": {
  "kernelspec": {
   "display_name": "Python 3 (ipykernel)",
   "language": "python",
   "name": "python3"
  },
  "language_info": {
   "codemirror_mode": {
    "name": "ipython",
    "version": 3
   },
   "file_extension": ".py",
   "mimetype": "text/x-python",
   "name": "python",
   "nbconvert_exporter": "python",
   "pygments_lexer": "ipython3",
   "version": "3.11.9"
  }
 },
 "nbformat": 4,
 "nbformat_minor": 4
}
